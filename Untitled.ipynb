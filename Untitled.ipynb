{
 "cells": [
  {
   "cell_type": "markdown",
   "metadata": {},
   "source": [
    "Pregunta 1:\n",
    "\n",
    "Demuestrar las siguiente identidad $rms(x)^2 = avg(x)^2 + std(x)^2$\n",
    "\n",
    "\n",
    "$\n",
    "\\begin{align}\n",
    "\\mathrm{std}(x)^2 & = \\frac{\\lVert x-(\\mathbf{1}^\\top x/n)\\mathbf{1}\\rVert}{\\sqrt{n}} \\\\\n",
    "& = (1/n) \\lVert x-(\\mathbf{1}^\\top x/n)\\mathbf{1}\\rVert^2 \\\\\n",
    "& = (1/n) (x^\\top x - 2x^\\top(\\mathbf{1}^\\top x/n)\\mathbf{1} + ((\\mathbf{1}^\\top x/n)\\mathbf{1})^\\top ((\\mathbf{1}^\\top x/n)\\mathbf{1}))  \\\\\n",
    "& = (1/n) (x^\\top x - 2x^\\top(\\mathbf{1}^\\top x/n)\\mathbf{1} + n(\\mathbf{1}^\\top x/ n)^2)  \\rightarrow \\because \\mathbf{1}^\\top \\mathbf{1} = n \\\\\n",
    "& = (1/n)x^\\top x  - (\\mathbf{1}^\\top x/n)^2 \\\\\n",
    "& = rms(x)^2 - avg(x)^2 \\\\\n",
    "rms(x)^2 &= avg(x)^2 + std(x)^2\n",
    "\\end{align}\n",
    "$\n"
   ]
  },
  {
   "cell_type": "code",
   "execution_count": 88,
   "metadata": {},
   "outputs": [],
   "source": [
    "import numpy as np\n",
    "import pandas as pd\n",
    "\n",
    "data = pd.read_csv('https://raw.githubusercontent.com/hperaltav/tareasmia/main/datakmeans.csv',\n",
    "                   delimiter=',', \n",
    "                   skipinitialspace=True,\n",
    "                   header=None)\n",
    "a = np.array(data)\n"
   ]
  },
  {
   "cell_type": "code",
   "execution_count": 85,
   "metadata": {},
   "outputs": [
    {
     "data": {
      "text/html": [
       "<div>\n",
       "<style scoped>\n",
       "    .dataframe tbody tr th:only-of-type {\n",
       "        vertical-align: middle;\n",
       "    }\n",
       "\n",
       "    .dataframe tbody tr th {\n",
       "        vertical-align: top;\n",
       "    }\n",
       "\n",
       "    .dataframe thead th {\n",
       "        text-align: right;\n",
       "    }\n",
       "</style>\n",
       "<table border=\"1\" class=\"dataframe\">\n",
       "  <thead>\n",
       "    <tr style=\"text-align: right;\">\n",
       "      <th></th>\n",
       "      <th>0</th>\n",
       "      <th>1</th>\n",
       "    </tr>\n",
       "  </thead>\n",
       "  <tbody>\n",
       "    <tr>\n",
       "      <th>0</th>\n",
       "      <td>0.000000</td>\n",
       "      <td>1.000000</td>\n",
       "    </tr>\n",
       "    <tr>\n",
       "      <th>1</th>\n",
       "      <td>-4.272404</td>\n",
       "      <td>-9.667048</td>\n",
       "    </tr>\n",
       "    <tr>\n",
       "      <th>2</th>\n",
       "      <td>-1.848082</td>\n",
       "      <td>-4.687662</td>\n",
       "    </tr>\n",
       "    <tr>\n",
       "      <th>3</th>\n",
       "      <td>8.816753</td>\n",
       "      <td>0.101368</td>\n",
       "    </tr>\n",
       "    <tr>\n",
       "      <th>4</th>\n",
       "      <td>6.743281</td>\n",
       "      <td>-2.990887</td>\n",
       "    </tr>\n",
       "    <tr>\n",
       "      <th>...</th>\n",
       "      <td>...</td>\n",
       "      <td>...</td>\n",
       "    </tr>\n",
       "    <tr>\n",
       "      <th>1996</th>\n",
       "      <td>-7.098423</td>\n",
       "      <td>-8.231545</td>\n",
       "    </tr>\n",
       "    <tr>\n",
       "      <th>1997</th>\n",
       "      <td>-3.565410</td>\n",
       "      <td>-7.072834</td>\n",
       "    </tr>\n",
       "    <tr>\n",
       "      <th>1998</th>\n",
       "      <td>7.355605</td>\n",
       "      <td>9.673196</td>\n",
       "    </tr>\n",
       "    <tr>\n",
       "      <th>1999</th>\n",
       "      <td>5.043384</td>\n",
       "      <td>3.636075</td>\n",
       "    </tr>\n",
       "    <tr>\n",
       "      <th>2000</th>\n",
       "      <td>1.440339</td>\n",
       "      <td>-3.512206</td>\n",
       "    </tr>\n",
       "  </tbody>\n",
       "</table>\n",
       "<p>2001 rows × 2 columns</p>\n",
       "</div>"
      ],
      "text/plain": [
       "             0         1\n",
       "0     0.000000  1.000000\n",
       "1    -4.272404 -9.667048\n",
       "2    -1.848082 -4.687662\n",
       "3     8.816753  0.101368\n",
       "4     6.743281 -2.990887\n",
       "...        ...       ...\n",
       "1996 -7.098423 -8.231545\n",
       "1997 -3.565410 -7.072834\n",
       "1998  7.355605  9.673196\n",
       "1999  5.043384  3.636075\n",
       "2000  1.440339 -3.512206\n",
       "\n",
       "[2001 rows x 2 columns]"
      ]
     },
     "execution_count": 85,
     "metadata": {},
     "output_type": "execute_result"
    }
   ],
   "source": [
    "data"
   ]
  },
  {
   "cell_type": "code",
   "execution_count": 92,
   "metadata": {},
   "outputs": [
    {
     "data": {
      "text/plain": [
       "(2001, 2)"
      ]
     },
     "execution_count": 92,
     "metadata": {},
     "output_type": "execute_result"
    }
   ],
   "source": [
    "a.shape"
   ]
  },
  {
   "cell_type": "code",
   "execution_count": 93,
   "metadata": {},
   "outputs": [
    {
     "data": {
      "text/plain": [
       "array([[ 0.        ,  1.        ],\n",
       "       [-4.27240413, -9.66704762],\n",
       "       [-1.84808162, -4.68766184],\n",
       "       ...,\n",
       "       [ 7.355605  ,  9.67319597],\n",
       "       [ 5.04338404,  3.63607498],\n",
       "       [ 1.44033919, -3.51220615]])"
      ]
     },
     "execution_count": 93,
     "metadata": {},
     "output_type": "execute_result"
    }
   ],
   "source": [
    "a"
   ]
  },
  {
   "cell_type": "code",
   "execution_count": 126,
   "metadata": {},
   "outputs": [],
   "source": [
    "def rep_inicial(k, array, semilla=0):\n",
    "    np.random.seed(semilla)\n",
    "    return  np.random.uniform(low=array.min(), high=array.max(), size=(k,array.shape[1]))\n",
    "\n",
    "def vecino_cercano(x, z):\n",
    "    K = z.shape[0]\n",
    "    distancias = np.empty(K)\n",
    "    for i in range(K):\n",
    "        distancias[i] = np.linalg.norm(z - x)\n",
    "    return np.argmin(distancias)\n",
    "\n",
    "\n",
    "def k_means_fit(X, Z0, NITERMAX=100):\n",
    "    Zn = Z0\n",
    "    cluster = np.empty(X.shape[0])\n",
    "    for niter in range(NITERMAX):\n",
    "        for x in X:            \n",
    "            vecino_cercano(x, Z0)\n",
    "    "
   ]
  },
  {
   "cell_type": "code",
   "execution_count": 119,
   "metadata": {},
   "outputs": [
    {
     "data": {
      "text/plain": [
       "array([[ 0.49860549,  5.69574994],\n",
       "       [ 2.18385763,  0.37583259],\n",
       "       [-3.41102334,  3.53114844],\n",
       "       [-2.97581143, 11.21175835],\n",
       "       [13.45740541, -4.66718048]])"
      ]
     },
     "execution_count": 119,
     "metadata": {},
     "output_type": "execute_result"
    }
   ],
   "source": [
    "#genera representantes\n",
    "#k=5 y semilla=0\n",
    "rep = rep_inicial(5, a, 0)\n",
    "rep"
   ]
  },
  {
   "cell_type": "code",
   "execution_count": 127,
   "metadata": {},
   "outputs": [],
   "source": [
    "k_means_fit(a, rep, 1)"
   ]
  },
  {
   "cell_type": "code",
   "execution_count": null,
   "metadata": {},
   "outputs": [],
   "source": []
  }
 ],
 "metadata": {
  "kernelspec": {
   "display_name": "Python 3",
   "language": "python",
   "name": "python3"
  },
  "language_info": {
   "codemirror_mode": {
    "name": "ipython",
    "version": 3
   },
   "file_extension": ".py",
   "mimetype": "text/x-python",
   "name": "python",
   "nbconvert_exporter": "python",
   "pygments_lexer": "ipython3",
   "version": "3.7.6"
  }
 },
 "nbformat": 4,
 "nbformat_minor": 4
}
