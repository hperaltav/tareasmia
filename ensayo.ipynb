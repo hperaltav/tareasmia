{
 "cells": [
  {
   "cell_type": "code",
   "execution_count": 121,
   "metadata": {},
   "outputs": [],
   "source": [
    "import pandas as pd\n",
    "import spacy\n",
    "from sklearn.feature_extraction.text import CountVectorizer, TfidfVectorizer\n",
    "import pandas as pd\n",
    "import matplotlib.pyplot as plt\n",
    "import numpy as np"
   ]
  },
  {
   "cell_type": "code",
   "execution_count": 122,
   "metadata": {},
   "outputs": [],
   "source": [
    "data = pd.read_csv('noticias-economicas-sample.csv')\n"
   ]
  },
  {
   "cell_type": "code",
   "execution_count": 123,
   "metadata": {},
   "outputs": [],
   "source": [
    "#ignoramos noticias muy cortas y nos quedamos con 1000\n",
    "\n",
    "df = data.copy()\n",
    "df['ntext'] = df['text'].str.split().str.len()\n",
    "df = df[df['ntext'] > 200]\n",
    "df.reset_index(inplace=True, drop=True)\n",
    "df = df.loc[:1000]"
   ]
  },
  {
   "cell_type": "code",
   "execution_count": 124,
   "metadata": {},
   "outputs": [
    {
     "data": {
      "text/html": [
       "<div>\n",
       "<style scoped>\n",
       "    .dataframe tbody tr th:only-of-type {\n",
       "        vertical-align: middle;\n",
       "    }\n",
       "\n",
       "    .dataframe tbody tr th {\n",
       "        vertical-align: top;\n",
       "    }\n",
       "\n",
       "    .dataframe thead th {\n",
       "        text-align: right;\n",
       "    }\n",
       "</style>\n",
       "<table border=\"1\" class=\"dataframe\">\n",
       "  <thead>\n",
       "    <tr style=\"text-align: right;\">\n",
       "      <th></th>\n",
       "      <th>url</th>\n",
       "      <th>base_url</th>\n",
       "      <th>authors</th>\n",
       "      <th>title</th>\n",
       "      <th>summary</th>\n",
       "      <th>text</th>\n",
       "      <th>publish_date</th>\n",
       "      <th>top_image_url</th>\n",
       "      <th>keywords</th>\n",
       "      <th>insert_date</th>\n",
       "      <th>ntext</th>\n",
       "    </tr>\n",
       "  </thead>\n",
       "  <tbody>\n",
       "    <tr>\n",
       "      <th>0</th>\n",
       "      <td>https://www.expansion.com/economia/2020/11/24/...</td>\n",
       "      <td>https://www.expansion.com/mercados/cronica-bol...</td>\n",
       "      <td>Christian Marquardt</td>\n",
       "      <td>La confianza empresarial de Alemania vuelve a ...</td>\n",
       "      <td>CHRISTIAN MARQUARDT / POOL EFELa confianza emp...</td>\n",
       "      <td>Angela Merkel ayer en Berlin tras la cumbre te...</td>\n",
       "      <td>2020-11-24 00:00:00</td>\n",
       "      <td>https://phantom-expansion.unidadeditorial.es/a...</td>\n",
       "      <td>noviembre, confianza, empresarial, económica, ...</td>\n",
       "      <td>2020-11-24 12:00:00</td>\n",
       "      <td>567</td>\n",
       "    </tr>\n",
       "    <tr>\n",
       "      <th>1</th>\n",
       "      <td>https://www.expansion.com/blogs/quemada/2020/1...</td>\n",
       "      <td>https://www.expansion.com/mercados/cronica-bol...</td>\n",
       "      <td>NaN</td>\n",
       "      <td>El Covid dejará 10 cambios que te afectarán</td>\n",
       "      <td>NaN</td>\n",
       "      <td>\\n\\n\\n\\n\\nEnrique Quemada Clariana\\nFusiones y...</td>\n",
       "      <td>2020-11-06 01:00:00</td>\n",
       "      <td>https://e00-expansion.uecdn.es/assets/desktop/...</td>\n",
       "      <td>dejará, covid, cambios, afectarán</td>\n",
       "      <td>2020-11-07 01:00:00</td>\n",
       "      <td>686</td>\n",
       "    </tr>\n",
       "    <tr>\n",
       "      <th>2</th>\n",
       "      <td>https://cincodias.elpais.com/cincodias/2020/12...</td>\n",
       "      <td>https://cincodias.elpais.com/tag/ibex_35/</td>\n",
       "      <td>Ediciones Cinco Días, Getty Images</td>\n",
       "      <td>Quiero ser mi propio jefe</td>\n",
       "      <td>¿Cuántas veces no ha querido ser su propio jef...</td>\n",
       "      <td>¿Cuántas veces no ha querido ser su propio jef...</td>\n",
       "      <td>2020-12-10 00:00:00</td>\n",
       "      <td>https://d500.epimg.net/cincodias/imagenes/2020...</td>\n",
       "      <td>ser, quiero, propio, negocio, jefe</td>\n",
       "      <td>2020-12-14 12:00:00</td>\n",
       "      <td>585</td>\n",
       "    </tr>\n",
       "    <tr>\n",
       "      <th>3</th>\n",
       "      <td>https://elpais.com/sociedad/2020-12-04/illa-es...</td>\n",
       "      <td>https://cincodias.elpais.com/tag/ibex_35/</td>\n",
       "      <td>Pedro Gorospe, Javier Etxezarreta</td>\n",
       "      <td>Illa estima que entre mayo y junio pueden esta...</td>\n",
       "      <td>Javier Etxezarreta / EFEEl ministro de Sanidad...</td>\n",
       "      <td>El ministro de Sanidad, Salvador Illa, momento...</td>\n",
       "      <td>2020-12-04 00:00:00</td>\n",
       "      <td>https://imagenes.elpais.com/resizer/N92W5q5ZxY...</td>\n",
       "      <td>mayo, illa, pueden, millones, estima, vacunada...</td>\n",
       "      <td>2020-12-04 12:00:00</td>\n",
       "      <td>586</td>\n",
       "    </tr>\n",
       "    <tr>\n",
       "      <th>4</th>\n",
       "      <td>https://www.bolsamania.com/noticias/economia/c...</td>\n",
       "      <td>https://www.bolsamania.com/indice/IBEX-35/noti...</td>\n",
       "      <td>Web Financial Group</td>\n",
       "      <td>El Congreso aprueba los Presupuestos con 188 v...</td>\n",
       "      <td>El Pleno del Congreso ha aprobado el proyecto ...</td>\n",
       "      <td>El Pleno del Congreso ha aprobado el proyecto ...</td>\n",
       "      <td>NaN</td>\n",
       "      <td>https://img2.s3wfg.com/web/img/images_uploaded...</td>\n",
       "      <td>millones, congreso, presupuestos, favor, aprue...</td>\n",
       "      <td>2020-12-03 12:00:00</td>\n",
       "      <td>790</td>\n",
       "    </tr>\n",
       "    <tr>\n",
       "      <th>...</th>\n",
       "      <td>...</td>\n",
       "      <td>...</td>\n",
       "      <td>...</td>\n",
       "      <td>...</td>\n",
       "      <td>...</td>\n",
       "      <td>...</td>\n",
       "      <td>...</td>\n",
       "      <td>...</td>\n",
       "      <td>...</td>\n",
       "      <td>...</td>\n",
       "      <td>...</td>\n",
       "    </tr>\n",
       "    <tr>\n",
       "      <th>996</th>\n",
       "      <td>https://www.expansion.com/valencia/2020/10/13/...</td>\n",
       "      <td>https://www.expansion.com/mercados/cronica-bol...</td>\n",
       "      <td>Artur Zanon</td>\n",
       "      <td>Los proveedores de snacks de Mercadona inviert...</td>\n",
       "      <td>EMPRESA LIVEN, EN BERGA, BARCELONA ARTUR ZANON...</td>\n",
       "      <td>EMPRESA LIVEN, EN BERGA, BARCELONA ARTUR ZANON...</td>\n",
       "      <td>2020-10-13 02:00:00</td>\n",
       "      <td>https://phantom-expansion.unidadeditorial.es/4...</td>\n",
       "      <td>euros, snacks, millones, mercadona, invierten,...</td>\n",
       "      <td>2020-10-13 14:00:00</td>\n",
       "      <td>396</td>\n",
       "    </tr>\n",
       "    <tr>\n",
       "      <th>997</th>\n",
       "      <td>http://cincodias.elpais.com/cincodias/2021/01/...</td>\n",
       "      <td>https://cincodias.elpais.com/tag/ibex_35/</td>\n",
       "      <td>Alfonso Simón Ruiz</td>\n",
       "      <td>Grifols prueba en España su tratamiento frente...</td>\n",
       "      <td>La multinacional catalana Grifols está en ese ...</td>\n",
       "      <td>Mientras avanzan las vacunas para inmunizar a ...</td>\n",
       "      <td>2021-01-18 00:00:00</td>\n",
       "      <td>https://d500.epimg.net/cincodias/imagenes/2021...</td>\n",
       "      <td>covid19, grifols, frente, españa, tratamiento,...</td>\n",
       "      <td>2021-01-18 12:00:00</td>\n",
       "      <td>610</td>\n",
       "    </tr>\n",
       "    <tr>\n",
       "      <th>998</th>\n",
       "      <td>https://www.bolsamania.com/noticias/analisis-t...</td>\n",
       "      <td>https://www.bolsamania.com/indice/IBEX-35/noti...</td>\n",
       "      <td>Web Financial Group, Jm. Rodríguez, César Vidal</td>\n",
       "      <td>Meliá Hotels: ¿a por el hueco bajista semanal ...</td>\n",
       "      <td>El sector del turismo está subiendo con violen...</td>\n",
       "      <td>El sector del turismo está subiendo con violen...</td>\n",
       "      <td>NaN</td>\n",
       "      <td>https://img5.s3wfg.com/web/img/images_uploaded...</td>\n",
       "      <td>vamos, marzo, hotels, bajista, meliá, semanal,...</td>\n",
       "      <td>2020-11-12 13:00:00</td>\n",
       "      <td>201</td>\n",
       "    </tr>\n",
       "    <tr>\n",
       "      <th>999</th>\n",
       "      <td>http://cincodias.elpais.com/cincodias/2021/01/...</td>\n",
       "      <td>https://cincodias.elpais.com/tag/ibex_35/</td>\n",
       "      <td>José Luis Sanz</td>\n",
       "      <td>Cómo cambiar el nombre de los dispositivos blu...</td>\n",
       "      <td>La sección bluetooth de nuestros iPhone ha ido...</td>\n",
       "      <td>La sección bluetooth de nuestros iPhone ha ido...</td>\n",
       "      <td>2021-01-29 00:00:00</td>\n",
       "      <td>https://d500.epimg.net/cincodias/imagenes/2021...</td>\n",
       "      <td>dispositivos, cómo, iphone, bluetooth, nombre,...</td>\n",
       "      <td>2021-01-29 12:00:00</td>\n",
       "      <td>457</td>\n",
       "    </tr>\n",
       "    <tr>\n",
       "      <th>1000</th>\n",
       "      <td>https://www.expansion.com/economia/2021/01/01/...</td>\n",
       "      <td>https://www.expansion.com/mercados/cronica-bol...</td>\n",
       "      <td>Foto, Jesús Hellín.</td>\n",
       "      <td>Montero dará un año a su comité de expertos pa...</td>\n",
       "      <td>Europa PressLa ministra de Hacienda, María Jes...</td>\n",
       "      <td>La ministra de Hacienda y portavoz del Gobiern...</td>\n",
       "      <td>2021-01-01 00:00:00</td>\n",
       "      <td>https://phantom-expansion.unidadeditorial.es/7...</td>\n",
       "      <td>dará, reforma, montero, fiscal, año, comité, s...</td>\n",
       "      <td>2021-01-02 00:00:00</td>\n",
       "      <td>565</td>\n",
       "    </tr>\n",
       "  </tbody>\n",
       "</table>\n",
       "<p>1001 rows × 11 columns</p>\n",
       "</div>"
      ],
      "text/plain": [
       "                                                    url  \\\n",
       "0     https://www.expansion.com/economia/2020/11/24/...   \n",
       "1     https://www.expansion.com/blogs/quemada/2020/1...   \n",
       "2     https://cincodias.elpais.com/cincodias/2020/12...   \n",
       "3     https://elpais.com/sociedad/2020-12-04/illa-es...   \n",
       "4     https://www.bolsamania.com/noticias/economia/c...   \n",
       "...                                                 ...   \n",
       "996   https://www.expansion.com/valencia/2020/10/13/...   \n",
       "997   http://cincodias.elpais.com/cincodias/2021/01/...   \n",
       "998   https://www.bolsamania.com/noticias/analisis-t...   \n",
       "999   http://cincodias.elpais.com/cincodias/2021/01/...   \n",
       "1000  https://www.expansion.com/economia/2021/01/01/...   \n",
       "\n",
       "                                               base_url  \\\n",
       "0     https://www.expansion.com/mercados/cronica-bol...   \n",
       "1     https://www.expansion.com/mercados/cronica-bol...   \n",
       "2             https://cincodias.elpais.com/tag/ibex_35/   \n",
       "3             https://cincodias.elpais.com/tag/ibex_35/   \n",
       "4     https://www.bolsamania.com/indice/IBEX-35/noti...   \n",
       "...                                                 ...   \n",
       "996   https://www.expansion.com/mercados/cronica-bol...   \n",
       "997           https://cincodias.elpais.com/tag/ibex_35/   \n",
       "998   https://www.bolsamania.com/indice/IBEX-35/noti...   \n",
       "999           https://cincodias.elpais.com/tag/ibex_35/   \n",
       "1000  https://www.expansion.com/mercados/cronica-bol...   \n",
       "\n",
       "                                              authors  \\\n",
       "0                                 Christian Marquardt   \n",
       "1                                                 NaN   \n",
       "2                  Ediciones Cinco Días, Getty Images   \n",
       "3                   Pedro Gorospe, Javier Etxezarreta   \n",
       "4                                 Web Financial Group   \n",
       "...                                               ...   \n",
       "996                                       Artur Zanon   \n",
       "997                                Alfonso Simón Ruiz   \n",
       "998   Web Financial Group, Jm. Rodríguez, César Vidal   \n",
       "999                                    José Luis Sanz   \n",
       "1000                              Foto, Jesús Hellín.   \n",
       "\n",
       "                                                  title  \\\n",
       "0     La confianza empresarial de Alemania vuelve a ...   \n",
       "1           El Covid dejará 10 cambios que te afectarán   \n",
       "2                             Quiero ser mi propio jefe   \n",
       "3     Illa estima que entre mayo y junio pueden esta...   \n",
       "4     El Congreso aprueba los Presupuestos con 188 v...   \n",
       "...                                                 ...   \n",
       "996   Los proveedores de snacks de Mercadona inviert...   \n",
       "997   Grifols prueba en España su tratamiento frente...   \n",
       "998   Meliá Hotels: ¿a por el hueco bajista semanal ...   \n",
       "999   Cómo cambiar el nombre de los dispositivos blu...   \n",
       "1000  Montero dará un año a su comité de expertos pa...   \n",
       "\n",
       "                                                summary  \\\n",
       "0     CHRISTIAN MARQUARDT / POOL EFELa confianza emp...   \n",
       "1                                                   NaN   \n",
       "2     ¿Cuántas veces no ha querido ser su propio jef...   \n",
       "3     Javier Etxezarreta / EFEEl ministro de Sanidad...   \n",
       "4     El Pleno del Congreso ha aprobado el proyecto ...   \n",
       "...                                                 ...   \n",
       "996   EMPRESA LIVEN, EN BERGA, BARCELONA ARTUR ZANON...   \n",
       "997   La multinacional catalana Grifols está en ese ...   \n",
       "998   El sector del turismo está subiendo con violen...   \n",
       "999   La sección bluetooth de nuestros iPhone ha ido...   \n",
       "1000  Europa PressLa ministra de Hacienda, María Jes...   \n",
       "\n",
       "                                                   text         publish_date  \\\n",
       "0     Angela Merkel ayer en Berlin tras la cumbre te...  2020-11-24 00:00:00   \n",
       "1     \\n\\n\\n\\n\\nEnrique Quemada Clariana\\nFusiones y...  2020-11-06 01:00:00   \n",
       "2     ¿Cuántas veces no ha querido ser su propio jef...  2020-12-10 00:00:00   \n",
       "3     El ministro de Sanidad, Salvador Illa, momento...  2020-12-04 00:00:00   \n",
       "4     El Pleno del Congreso ha aprobado el proyecto ...                  NaN   \n",
       "...                                                 ...                  ...   \n",
       "996   EMPRESA LIVEN, EN BERGA, BARCELONA ARTUR ZANON...  2020-10-13 02:00:00   \n",
       "997   Mientras avanzan las vacunas para inmunizar a ...  2021-01-18 00:00:00   \n",
       "998   El sector del turismo está subiendo con violen...                  NaN   \n",
       "999   La sección bluetooth de nuestros iPhone ha ido...  2021-01-29 00:00:00   \n",
       "1000  La ministra de Hacienda y portavoz del Gobiern...  2021-01-01 00:00:00   \n",
       "\n",
       "                                          top_image_url  \\\n",
       "0     https://phantom-expansion.unidadeditorial.es/a...   \n",
       "1     https://e00-expansion.uecdn.es/assets/desktop/...   \n",
       "2     https://d500.epimg.net/cincodias/imagenes/2020...   \n",
       "3     https://imagenes.elpais.com/resizer/N92W5q5ZxY...   \n",
       "4     https://img2.s3wfg.com/web/img/images_uploaded...   \n",
       "...                                                 ...   \n",
       "996   https://phantom-expansion.unidadeditorial.es/4...   \n",
       "997   https://d500.epimg.net/cincodias/imagenes/2021...   \n",
       "998   https://img5.s3wfg.com/web/img/images_uploaded...   \n",
       "999   https://d500.epimg.net/cincodias/imagenes/2021...   \n",
       "1000  https://phantom-expansion.unidadeditorial.es/7...   \n",
       "\n",
       "                                               keywords          insert_date  \\\n",
       "0     noviembre, confianza, empresarial, económica, ...  2020-11-24 12:00:00   \n",
       "1                     dejará, covid, cambios, afectarán  2020-11-07 01:00:00   \n",
       "2                    ser, quiero, propio, negocio, jefe  2020-12-14 12:00:00   \n",
       "3     mayo, illa, pueden, millones, estima, vacunada...  2020-12-04 12:00:00   \n",
       "4     millones, congreso, presupuestos, favor, aprue...  2020-12-03 12:00:00   \n",
       "...                                                 ...                  ...   \n",
       "996   euros, snacks, millones, mercadona, invierten,...  2020-10-13 14:00:00   \n",
       "997   covid19, grifols, frente, españa, tratamiento,...  2021-01-18 12:00:00   \n",
       "998   vamos, marzo, hotels, bajista, meliá, semanal,...  2020-11-12 13:00:00   \n",
       "999   dispositivos, cómo, iphone, bluetooth, nombre,...  2021-01-29 12:00:00   \n",
       "1000  dará, reforma, montero, fiscal, año, comité, s...  2021-01-02 00:00:00   \n",
       "\n",
       "      ntext  \n",
       "0       567  \n",
       "1       686  \n",
       "2       585  \n",
       "3       586  \n",
       "4       790  \n",
       "...     ...  \n",
       "996     396  \n",
       "997     610  \n",
       "998     201  \n",
       "999     457  \n",
       "1000    565  \n",
       "\n",
       "[1001 rows x 11 columns]"
      ]
     },
     "execution_count": 124,
     "metadata": {},
     "output_type": "execute_result"
    }
   ],
   "source": [
    "df"
   ]
  },
  {
   "cell_type": "markdown",
   "metadata": {},
   "source": [
    "Primero, una vectorización en base al conteo de palabras de cada texto de la base"
   ]
  },
  {
   "cell_type": "code",
   "execution_count": 125,
   "metadata": {},
   "outputs": [],
   "source": [
    "vectorizer = CountVectorizer()\n",
    "X = vectorizer.fit_transform(df['text'])"
   ]
  },
  {
   "cell_type": "code",
   "execution_count": 126,
   "metadata": {},
   "outputs": [
    {
     "data": {
      "text/plain": [
       "(1001, 44796)"
      ]
     },
     "execution_count": 126,
     "metadata": {},
     "output_type": "execute_result"
    }
   ],
   "source": [
    "X.todense().shape"
   ]
  },
  {
   "cell_type": "markdown",
   "metadata": {},
   "source": [
    "## Lemmatizing y stopwords\n",
    "\n",
    "Aparentemente, el texto simple contiene demasiadas palabras únicas y _stopwords_ lo que devuelve una matrix con demasiados ceros (sparse), lo que podría resultar en algo indeseado. Para mejorar este problema, preprocesaremos los datos eliminando stopwords o palabras vacías (preposiciones y artículos principalmente) y haciendo _lemmatizing_ (cortar las palabras a su versión no flexionada, por ejemplo: flexionado $\\rightarrow$ flexionar."
   ]
  },
  {
   "cell_type": "code",
   "execution_count": 127,
   "metadata": {},
   "outputs": [],
   "source": [
    "nlp = spacy.load('es_core_news_md')"
   ]
  },
  {
   "cell_type": "code",
   "execution_count": 128,
   "metadata": {},
   "outputs": [
    {
     "data": {
      "text/plain": [
       "521"
      ]
     },
     "execution_count": 128,
     "metadata": {},
     "output_type": "execute_result"
    }
   ],
   "source": [
    "stop_words = spacy.lang.es.stop_words.STOP_WORDS\n",
    "len(stop_words)"
   ]
  },
  {
   "cell_type": "code",
   "execution_count": 129,
   "metadata": {
    "scrolled": false
   },
   "outputs": [],
   "source": [
    "df.loc[:, 'text2'] = df.text.apply(lambda text: \" \".join(token.lemma_ for token in nlp(text) if not token.is_stop))"
   ]
  },
  {
   "cell_type": "code",
   "execution_count": 130,
   "metadata": {},
   "outputs": [
    {
     "data": {
      "text/plain": [
       "['encuentro',\n",
       " 'faltar',\n",
       " 'desarrollar él',\n",
       " 'líder',\n",
       " 'Huachipato',\n",
       " 'frente',\n",
       " 'colista',\n",
       " 'Magallanes']"
      ]
     },
     "execution_count": 130,
     "metadata": {},
     "output_type": "execute_result"
    }
   ],
   "source": [
    "oracion = \"El otro encuentro que falta por desarrollarse es el del líder Huachipato frente al colista Magallanes\"\n",
    "\n",
    "oracionlimpia = [x.lemma_ for x in nlp(oracion) if not x.is_stop]\n",
    "oracionlimpia"
   ]
  },
  {
   "cell_type": "code",
   "execution_count": 131,
   "metadata": {},
   "outputs": [
    {
     "data": {
      "text/html": [
       "<div>\n",
       "<style scoped>\n",
       "    .dataframe tbody tr th:only-of-type {\n",
       "        vertical-align: middle;\n",
       "    }\n",
       "\n",
       "    .dataframe tbody tr th {\n",
       "        vertical-align: top;\n",
       "    }\n",
       "\n",
       "    .dataframe thead th {\n",
       "        text-align: right;\n",
       "    }\n",
       "</style>\n",
       "<table border=\"1\" class=\"dataframe\">\n",
       "  <thead>\n",
       "    <tr style=\"text-align: right;\">\n",
       "      <th></th>\n",
       "      <th>text</th>\n",
       "      <th>text2</th>\n",
       "    </tr>\n",
       "  </thead>\n",
       "  <tbody>\n",
       "    <tr>\n",
       "      <th>0</th>\n",
       "      <td>Angela Merkel ayer en Berlin tras la cumbre te...</td>\n",
       "      <td>Angela Merkel ayer Berlin cumbre telemático G-...</td>\n",
       "    </tr>\n",
       "    <tr>\n",
       "      <th>1</th>\n",
       "      <td>\\n\\n\\n\\n\\nEnrique Quemada Clariana\\nFusiones y...</td>\n",
       "      <td>\\n\\n\\n\\n\\n Enrique Quemada Clariana \\n Fusione...</td>\n",
       "    </tr>\n",
       "    <tr>\n",
       "      <th>2</th>\n",
       "      <td>¿Cuántas veces no ha querido ser su propio jef...</td>\n",
       "      <td>¿ querer jefe ? ¿ arrepentir lanzar él montar ...</td>\n",
       "    </tr>\n",
       "    <tr>\n",
       "      <th>3</th>\n",
       "      <td>El ministro de Sanidad, Salvador Illa, momento...</td>\n",
       "      <td>ministro Sanidad , Salvador Illa , momento rue...</td>\n",
       "    </tr>\n",
       "    <tr>\n",
       "      <th>4</th>\n",
       "      <td>El Pleno del Congreso ha aprobado el proyecto ...</td>\n",
       "      <td>Pleno Congreso aprobar proyecto Presupuestos G...</td>\n",
       "    </tr>\n",
       "    <tr>\n",
       "      <th>...</th>\n",
       "      <td>...</td>\n",
       "      <td>...</td>\n",
       "    </tr>\n",
       "    <tr>\n",
       "      <th>996</th>\n",
       "      <td>EMPRESA LIVEN, EN BERGA, BARCELONA ARTUR ZANON...</td>\n",
       "      <td>empresa LIVEN , BERGA , BARCELONA ARTUR ZANON ...</td>\n",
       "    </tr>\n",
       "    <tr>\n",
       "      <th>997</th>\n",
       "      <td>Mientras avanzan las vacunas para inmunizar a ...</td>\n",
       "      <td>avanzar vacuna inmunizar población SARS-CoV-2 ...</td>\n",
       "    </tr>\n",
       "    <tr>\n",
       "      <th>998</th>\n",
       "      <td>El sector del turismo está subiendo con violen...</td>\n",
       "      <td>sector turismo subir violencia . , conocer él ...</td>\n",
       "    </tr>\n",
       "    <tr>\n",
       "      <th>999</th>\n",
       "      <td>La sección bluetooth de nuestros iPhone ha ido...</td>\n",
       "      <td>sección bluetooth iphone ir coger cuerpo año p...</td>\n",
       "    </tr>\n",
       "    <tr>\n",
       "      <th>1000</th>\n",
       "      <td>La ministra de Hacienda y portavoz del Gobiern...</td>\n",
       "      <td>ministra Hacienda portavoz Gobierno , lt;hit g...</td>\n",
       "    </tr>\n",
       "  </tbody>\n",
       "</table>\n",
       "<p>1001 rows × 2 columns</p>\n",
       "</div>"
      ],
      "text/plain": [
       "                                                   text  \\\n",
       "0     Angela Merkel ayer en Berlin tras la cumbre te...   \n",
       "1     \\n\\n\\n\\n\\nEnrique Quemada Clariana\\nFusiones y...   \n",
       "2     ¿Cuántas veces no ha querido ser su propio jef...   \n",
       "3     El ministro de Sanidad, Salvador Illa, momento...   \n",
       "4     El Pleno del Congreso ha aprobado el proyecto ...   \n",
       "...                                                 ...   \n",
       "996   EMPRESA LIVEN, EN BERGA, BARCELONA ARTUR ZANON...   \n",
       "997   Mientras avanzan las vacunas para inmunizar a ...   \n",
       "998   El sector del turismo está subiendo con violen...   \n",
       "999   La sección bluetooth de nuestros iPhone ha ido...   \n",
       "1000  La ministra de Hacienda y portavoz del Gobiern...   \n",
       "\n",
       "                                                  text2  \n",
       "0     Angela Merkel ayer Berlin cumbre telemático G-...  \n",
       "1     \\n\\n\\n\\n\\n Enrique Quemada Clariana \\n Fusione...  \n",
       "2     ¿ querer jefe ? ¿ arrepentir lanzar él montar ...  \n",
       "3     ministro Sanidad , Salvador Illa , momento rue...  \n",
       "4     Pleno Congreso aprobar proyecto Presupuestos G...  \n",
       "...                                                 ...  \n",
       "996   empresa LIVEN , BERGA , BARCELONA ARTUR ZANON ...  \n",
       "997   avanzar vacuna inmunizar población SARS-CoV-2 ...  \n",
       "998   sector turismo subir violencia . , conocer él ...  \n",
       "999   sección bluetooth iphone ir coger cuerpo año p...  \n",
       "1000  ministra Hacienda portavoz Gobierno , lt;hit g...  \n",
       "\n",
       "[1001 rows x 2 columns]"
      ]
     },
     "execution_count": 131,
     "metadata": {},
     "output_type": "execute_result"
    }
   ],
   "source": [
    "df[['text', 'text2']]"
   ]
  },
  {
   "cell_type": "code",
   "execution_count": 132,
   "metadata": {},
   "outputs": [],
   "source": [
    "vectorizer = CountVectorizer()\n",
    "X = vectorizer.fit_transform(df['text2'])\n"
   ]
  },
  {
   "cell_type": "code",
   "execution_count": 133,
   "metadata": {},
   "outputs": [],
   "source": [
    "M = X.todense()"
   ]
  },
  {
   "cell_type": "code",
   "execution_count": 134,
   "metadata": {},
   "outputs": [
    {
     "data": {
      "text/plain": [
       "(1001, 32775)"
      ]
     },
     "execution_count": 134,
     "metadata": {},
     "output_type": "execute_result"
    }
   ],
   "source": [
    "M.shape"
   ]
  },
  {
   "cell_type": "code",
   "execution_count": 135,
   "metadata": {},
   "outputs": [],
   "source": [
    "def get_term(dict, search_index):\n",
    "    return list(dict.keys())[list(dict.values()).index(search_index)]"
   ]
  },
  {
   "cell_type": "code",
   "execution_count": 136,
   "metadata": {},
   "outputs": [
    {
     "data": {
      "text/plain": [
       "'0101'"
      ]
     },
     "execution_count": 136,
     "metadata": {},
     "output_type": "execute_result"
    }
   ],
   "source": [
    "get_term(vectorizer.vocabulary_, 8)"
   ]
  },
  {
   "cell_type": "markdown",
   "metadata": {},
   "source": [
    "Ahora, probemos el uso de pca sobre los datos vectorizados"
   ]
  },
  {
   "cell_type": "code",
   "execution_count": 137,
   "metadata": {},
   "outputs": [],
   "source": [
    "U, S, VT = np.linalg.svd(M, full_matrices=False)"
   ]
  },
  {
   "cell_type": "code",
   "execution_count": 138,
   "metadata": {},
   "outputs": [],
   "source": [
    "V = VT.T\n",
    "\n",
    "s = np.diag(S)"
   ]
  },
  {
   "cell_type": "code",
   "execution_count": 139,
   "metadata": {},
   "outputs": [],
   "source": [
    "Mhat = U[:, :1000] @ s[:1000, :1000] @ V[:,:1000].T\n",
    "Mhatfull = U @ s @ V.T"
   ]
  },
  {
   "cell_type": "code",
   "execution_count": 140,
   "metadata": {},
   "outputs": [
    {
     "data": {
      "text/plain": [
       "(1001, 32775)"
      ]
     },
     "execution_count": 140,
     "metadata": {},
     "output_type": "execute_result"
    }
   ],
   "source": [
    "Mhat.shape"
   ]
  },
  {
   "cell_type": "code",
   "execution_count": 141,
   "metadata": {},
   "outputs": [],
   "source": [
    "def show_summary(Mhat, doc, wordsn, vectorizer):\n",
    "    row = pd.DataFrame(Mhat[doc,:])\n",
    "    row = row.T.sort_values(0, ascending=False)\n",
    "    row_i = row.reset_index()\n",
    "    principales = list(row_i.loc[:wordsn,]['index'])\n",
    "    for x in principales:\n",
    "        print(get_term(vectorizer.vocabulary_, x))\n"
   ]
  },
  {
   "cell_type": "code",
   "execution_count": 142,
   "metadata": {},
   "outputs": [],
   "source": [
    "doc = 10\n",
    "wordsn = 20"
   ]
  },
  {
   "cell_type": "code",
   "execution_count": 143,
   "metadata": {
    "scrolled": false
   },
   "outputs": [
    {
     "name": "stdout",
     "output_type": "stream",
     "text": [
      "pca\n",
      "\n",
      "\n",
      "salud\n",
      "zona\n",
      "madrid\n",
      "comunidad\n",
      "básico\n",
      "00\n",
      "medida\n",
      "sanidad\n",
      "puente\n",
      "santos\n",
      "35\n",
      "restricción\n",
      "confinamiento\n",
      "decreto\n",
      "región\n",
      "adoptar\n",
      "regional\n",
      "pública\n",
      "transmisión\n",
      "limitación\n",
      "decidir\n",
      "\n",
      "\n",
      "Full svd\n",
      "\n",
      "\n",
      "salud\n",
      "zona\n",
      "comunidad\n",
      "madrid\n",
      "básico\n",
      "00\n",
      "medida\n",
      "sanidad\n",
      "puente\n",
      "santos\n",
      "35\n",
      "restricción\n",
      "confinamiento\n",
      "decreto\n",
      "adoptar\n",
      "región\n",
      "regional\n",
      "pública\n",
      "transmisión\n",
      "limitación\n",
      "decidir\n",
      "La Comunidad de Madrid permanece cerrada perimetralmente desde las 00.00 horas de este viernes y continuará así hasta las 00.00 del próximo martes para impedir los desplazamientos durante el puente de Todos los Santos, confinamiento que ha entrado en vigor con la publicación del decreto regional en el 'Boletín Oficial de la Comunidad de Madrid'(BOCM).\n",
      "\n",
      "La presidenta de la Comunidad de Madrid, Isabel Díaz Ayuso, ha firmado el decreto regional para limitar la entrada y salida de la región durante el Puente de Todos los Santos y el de la Almudena, aunque la decisión sobre este último se tomará en el Consejo Interterritorial de Salud del miércoles, que decidirá sobre la efectividad de las medidas que están adoptando las autonomías.\n",
      "\n",
      "Además, la Consejería de Sanidad de la Comunidad de Madrid ha ampliado de 32 a 35 las zonas básicas de salud con restricciones perimetrales donde se está extremando el seguimiento de los cumplimientos de los aislamientos y las cuarentenas, unas medidas que se suman al confinamiento de la región este puente de Todos los Santos.\n",
      "\n",
      "El viceconsejero de Salud Pública y Plan Covid-19, Antonio Zapatero, y la directora general de Salud Pública, Elena Andradas, lo han anunciado este viernes en una rueda de prensa en el Departamento de Sanidad.\n",
      "\n",
      "Las tres nuevas zonas básicas de salud donde se aplicarán limitaciones a la movilidad son la de Valle de la Oliva, en el municipio de Majadahonda, y otras dos áreas sanitarias de Coslada, Barrio del Puerto y Doctor Tamames.\n",
      "\n",
      "La Consejería de Sanidad ha decidido acordar restricciones en aquellas zonas básicas de salud con una incidencia acumulada igual o superior a 500 casos por cada 100.000 habitantes.\n",
      "\n",
      "En las 35 zonas con limitaciones, donde existe una mayor transmisión de la enfermedad, vive el 11 por ciento de la población de la Comunidad de Madrid y se concentra un 16,3 por ciento de los casos de coronavirus.\n",
      "\n",
      "Andradas ha explicado que para adoptar estas medidas se valora la tendencia que existe en las zonas básicas de salud, qué tipo de transmisión existe, si se asocia a brotes familiares o colectivos y qué grupos de edad son los más afectados. EFE\n"
     ]
    }
   ],
   "source": [
    "print('pca')\n",
    "print('\\n')\n",
    "show_summary(Mhat, doc, wordsn, vectorizer)\n",
    "print('\\n')\n",
    "print('Full svd')\n",
    "print('\\n')\n",
    "show_summary(Mhatfull, doc, wordsn, vectorizer)\n",
    "print(df.loc[doc, 'text'])"
   ]
  },
  {
   "cell_type": "markdown",
   "metadata": {},
   "source": [
    "### PCA muestra algo de los documentos en pocas palabras, en algunos caso lo hace bien y en otras es más impreciso. Probemos con otro tipo de vectorizador basado en TF-IDF"
   ]
  },
  {
   "cell_type": "code",
   "execution_count": 144,
   "metadata": {},
   "outputs": [],
   "source": [
    "vectorizer2 = TfidfVectorizer()\n",
    "X2 = vectorizer2.fit_transform(df['text2'])\n",
    "M2 = X2.todense()"
   ]
  },
  {
   "cell_type": "code",
   "execution_count": 145,
   "metadata": {},
   "outputs": [],
   "source": [
    "U2, S2, VT2 = np.linalg.svd(M2, full_matrices=False)\n",
    "V2 = VT2.T\n",
    "s2 = np.diag(S2)\n",
    "Mhat2 = U2[:, :1000] @ s2[:1000, :1000] @ V2[:,:1000].T"
   ]
  },
  {
   "cell_type": "code",
   "execution_count": 146,
   "metadata": {
    "scrolled": false
   },
   "outputs": [
    {
     "name": "stdout",
     "output_type": "stream",
     "text": [
      "salud\n",
      "santos\n",
      "00\n",
      "zona\n",
      "comunidad\n",
      "básico\n",
      "puente\n",
      "madrid\n",
      "sanidad\n",
      "consejería\n",
      "transmisión\n",
      "pública\n",
      "limitación\n",
      "ciento\n",
      "regional\n",
      "decreto\n",
      "adoptar\n",
      "bocm\n",
      "perimetralmente\n",
      "tamames\n",
      "andrada\n",
      "La Comunidad de Madrid permanece cerrada perimetralmente desde las 00.00 horas de este viernes y continuará así hasta las 00.00 del próximo martes para impedir los desplazamientos durante el puente de Todos los Santos, confinamiento que ha entrado en vigor con la publicación del decreto regional en el 'Boletín Oficial de la Comunidad de Madrid'(BOCM).\n",
      "\n",
      "La presidenta de la Comunidad de Madrid, Isabel Díaz Ayuso, ha firmado el decreto regional para limitar la entrada y salida de la región durante el Puente de Todos los Santos y el de la Almudena, aunque la decisión sobre este último se tomará en el Consejo Interterritorial de Salud del miércoles, que decidirá sobre la efectividad de las medidas que están adoptando las autonomías.\n",
      "\n",
      "Además, la Consejería de Sanidad de la Comunidad de Madrid ha ampliado de 32 a 35 las zonas básicas de salud con restricciones perimetrales donde se está extremando el seguimiento de los cumplimientos de los aislamientos y las cuarentenas, unas medidas que se suman al confinamiento de la región este puente de Todos los Santos.\n",
      "\n",
      "El viceconsejero de Salud Pública y Plan Covid-19, Antonio Zapatero, y la directora general de Salud Pública, Elena Andradas, lo han anunciado este viernes en una rueda de prensa en el Departamento de Sanidad.\n",
      "\n",
      "Las tres nuevas zonas básicas de salud donde se aplicarán limitaciones a la movilidad son la de Valle de la Oliva, en el municipio de Majadahonda, y otras dos áreas sanitarias de Coslada, Barrio del Puerto y Doctor Tamames.\n",
      "\n",
      "La Consejería de Sanidad ha decidido acordar restricciones en aquellas zonas básicas de salud con una incidencia acumulada igual o superior a 500 casos por cada 100.000 habitantes.\n",
      "\n",
      "En las 35 zonas con limitaciones, donde existe una mayor transmisión de la enfermedad, vive el 11 por ciento de la población de la Comunidad de Madrid y se concentra un 16,3 por ciento de los casos de coronavirus.\n",
      "\n",
      "Andradas ha explicado que para adoptar estas medidas se valora la tendencia que existe en las zonas básicas de salud, qué tipo de transmisión existe, si se asocia a brotes familiares o colectivos y qué grupos de edad son los más afectados. EFE\n"
     ]
    }
   ],
   "source": [
    "show_summary(Mhat2, doc, wordsn, vectorizer2)\n",
    "print(df.loc[doc, 'text'])"
   ]
  },
  {
   "cell_type": "markdown",
   "metadata": {},
   "source": [
    "### Finalmente, el uso de bigramas para revisar si encuentra relaciones entre 2 palabras que juntas conforman un término único"
   ]
  },
  {
   "cell_type": "code",
   "execution_count": 147,
   "metadata": {},
   "outputs": [],
   "source": [
    "vectorizer3 = TfidfVectorizer(ngram_range=(1, 2))\n",
    "X3 = vectorizer3.fit_transform(df['text2'])\n",
    "M3 = X3.todense()\n",
    "\n",
    "U3, S3, VT3 = np.linalg.svd(M3, full_matrices=False)\n",
    "V3 = VT3.T\n",
    "s3 = np.diag(S3)\n",
    "Mhat3 = U3[:, :1000] @ s3[:1000, :1000] @ V3[:,:1000].T"
   ]
  },
  {
   "cell_type": "code",
   "execution_count": 148,
   "metadata": {
    "scrolled": false
   },
   "outputs": [
    {
     "name": "stdout",
     "output_type": "stream",
     "text": [
      "básico salud\n",
      "zona básico\n",
      "puente santos\n",
      "comunidad madrid\n",
      "salud\n",
      "santos\n",
      "00\n",
      "zona\n",
      "comunidad\n",
      "básico\n",
      "puente\n",
      "35 zona\n",
      "región puente\n",
      "decreto regional\n",
      "madrid\n",
      "sanidad\n",
      "00 00\n",
      "consejería sanidad\n",
      "salud pública\n",
      "consejería\n",
      "transmisión\n",
      "La Comunidad de Madrid permanece cerrada perimetralmente desde las 00.00 horas de este viernes y continuará así hasta las 00.00 del próximo martes para impedir los desplazamientos durante el puente de Todos los Santos, confinamiento que ha entrado en vigor con la publicación del decreto regional en el 'Boletín Oficial de la Comunidad de Madrid'(BOCM).\n",
      "\n",
      "La presidenta de la Comunidad de Madrid, Isabel Díaz Ayuso, ha firmado el decreto regional para limitar la entrada y salida de la región durante el Puente de Todos los Santos y el de la Almudena, aunque la decisión sobre este último se tomará en el Consejo Interterritorial de Salud del miércoles, que decidirá sobre la efectividad de las medidas que están adoptando las autonomías.\n",
      "\n",
      "Además, la Consejería de Sanidad de la Comunidad de Madrid ha ampliado de 32 a 35 las zonas básicas de salud con restricciones perimetrales donde se está extremando el seguimiento de los cumplimientos de los aislamientos y las cuarentenas, unas medidas que se suman al confinamiento de la región este puente de Todos los Santos.\n",
      "\n",
      "El viceconsejero de Salud Pública y Plan Covid-19, Antonio Zapatero, y la directora general de Salud Pública, Elena Andradas, lo han anunciado este viernes en una rueda de prensa en el Departamento de Sanidad.\n",
      "\n",
      "Las tres nuevas zonas básicas de salud donde se aplicarán limitaciones a la movilidad son la de Valle de la Oliva, en el municipio de Majadahonda, y otras dos áreas sanitarias de Coslada, Barrio del Puerto y Doctor Tamames.\n",
      "\n",
      "La Consejería de Sanidad ha decidido acordar restricciones en aquellas zonas básicas de salud con una incidencia acumulada igual o superior a 500 casos por cada 100.000 habitantes.\n",
      "\n",
      "En las 35 zonas con limitaciones, donde existe una mayor transmisión de la enfermedad, vive el 11 por ciento de la población de la Comunidad de Madrid y se concentra un 16,3 por ciento de los casos de coronavirus.\n",
      "\n",
      "Andradas ha explicado que para adoptar estas medidas se valora la tendencia que existe en las zonas básicas de salud, qué tipo de transmisión existe, si se asocia a brotes familiares o colectivos y qué grupos de edad son los más afectados. EFE\n"
     ]
    }
   ],
   "source": [
    "show_summary(Mhat3, doc, wordsn, vectorizer3)\n",
    "print(df.loc[doc, 'text'])"
   ]
  }
 ],
 "metadata": {
  "kernelspec": {
   "display_name": "Python 3",
   "language": "python",
   "name": "python3"
  },
  "language_info": {
   "codemirror_mode": {
    "name": "ipython",
    "version": 3
   },
   "file_extension": ".py",
   "mimetype": "text/x-python",
   "name": "python",
   "nbconvert_exporter": "python",
   "pygments_lexer": "ipython3",
   "version": "3.7.6"
  }
 },
 "nbformat": 4,
 "nbformat_minor": 4
}
